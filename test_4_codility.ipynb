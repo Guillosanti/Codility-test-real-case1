{
 "cells": [
  {
   "cell_type": "code",
   "execution_count": null,
   "metadata": {},
   "outputs": [],
   "source": [
    "# Author: Guillermo Santiago Aguilera Leon (Guillosanti) on 2021-11-24\n",
    "\"\"\"A non-empty array A consisting of N intergers is given. A slice of that array is any pair of integers (P, Q) such that 0 <= P <= Q < N.\n",
    "Interger P is called the beginning of the slice.\n",
    "Interger Q is called an end index of a slice.\n",
    "The number Q - P + 1 is called the size of a slice.\n",
    "A slice (P, Q) of array A is called ascending if the corresponding items form a strictly increasing sequence: A[P] < A[P+1] < ... < A[Q-1] < A[Q].\n",
    "Note that we consider a slice (P, P) consisting of one element to be ascending.\n",
    "For example, consider array A such that:\n",
    "A[0] = 2\n",
    "A[1] = 2\n",
    "A[2] = 2\n",
    "A[3] = 2\n",
    "A[4] = 1\n",
    "A[5] = 2\n",
    "A[6] = -1\n",
    "A[7] = 2\n",
    "A[8] = 1\n",
    "A[9] = 3\n",
    "The pair (0, 3) is a slice of array A of size 4 that is not ascending.\n",
    "The pair (2, 2) is is a slice of size 1 that is ascending.\n",
    "The pair (4, 5) is a slice of size 2 that is ascending.\n",
    "The pair (6, 7) and (8, 9) are other slices of size 2 that are ascending.\n",
    "There is no slice of array A that is ascending and has a size greater than 2.\n",
    "Write a function:\n",
    "def solution(A)\n",
    "that, given a non-empty array A consisting of N integers, returns the beginning of any ascending slice of A of maximal size.\n",
    "For instance, in the above example the function should return 4, 6 or 8 as explained above.\n",
    "For the following array A consisting of N = 3 elements:\n",
    "A[0] = 30\n",
    "A[1] = 20\n",
    "A[2] = 10\n",
    "the function should return 0, 1 or 2, because all ascending slices of this array have size 1.\n",
    "Write an efficient algorithm for the following assumptions:\n",
    "N is an integer within the range [1..150,000];\n",
    "each element of array A is an integer within the range [−2,147,483,648..2,147,483,647].\n",
    "def solution(A):\n",
    "    # write your code in Python 3.6\n",
    "    #A = [30, 20, 10]\n",
    "    #A = [2, 2, 2, 2, 1, 2, -1, 2, 1, 3]\n",
    "    #A = [2, 2, 2, 2, 1, 2, -1, 2, 1, 3, 4, 5, 6, 7, 8, 9]\"\"\""
   ]
  },
  {
   "cell_type": "code",
   "execution_count": 31,
   "metadata": {},
   "outputs": [],
   "source": [
    "\"\"\"Examples\"\"\"\n",
    "A = [2, 2, 2, 2, 1, 2, -1, 2, 1, 3]\n",
    "#A = [30, 20, 10]\n",
    "#A = [1,4,5,6,0,11,13,24,-30]\n",
    "#A= [-36,-45,-23,0,-1,-3,-2,5]"
   ]
  },
  {
   "cell_type": "code",
   "execution_count": 29,
   "metadata": {},
   "outputs": [],
   "source": [
    "def solution(A):\n",
    "    # Write your code in Python 3.6\n",
    "    # Created by Guillermo Santiago Aguilera Leon (Guillosanti) on 2021-11-24\n",
    "    total = []\n",
    "    output = []\n",
    "    total_index = []\n",
    "    index = []\n",
    "    for i in range(len(A)-1):\n",
    "        if output == []:\n",
    "            output.append(int(A[i]))\n",
    "            index.append(i)\n",
    "\n",
    "        if output[-1] <= A[int(i+1)]:\n",
    "            output.append(A[int(i+1)])\n",
    "            index.append(i+1)\n",
    "            if int(len(A)-2) == int(i):\n",
    "                total.append(output)\n",
    "                total_index.append(index)\n",
    "                \n",
    "        else:\n",
    "            total.append(output)\n",
    "            total_index.append(index)\n",
    "            output = []\n",
    "            index = []\n",
    "\n",
    "    C = [i for e in total for i in e]\n",
    "\n",
    "    if len(C) != len(A):\n",
    "        total.append([A[-1]])\n",
    "        total_index.append([len(A)-1]) \n",
    "\n",
    "    D = [i[0] for i in total_index]\n",
    "\n",
    "    return D        "
   ]
  },
  {
   "cell_type": "code",
   "execution_count": 32,
   "metadata": {},
   "outputs": [
    {
     "name": "stdout",
     "output_type": "stream",
     "text": [
      "[2, 2, 2, 2, 1, 2, -1, 2, 1, 3]\n",
      "[0, 4, 6, 8]\n"
     ]
    }
   ],
   "source": [
    "print(A)\n",
    "print(solution(A))\n"
   ]
  }
 ],
 "metadata": {
  "interpreter": {
   "hash": "4f3b078249380ea762697f4f8f6aea77b3d6e43cbb1b18cbb73d8cde5aa597e7"
  },
  "kernelspec": {
   "display_name": "Python 3.9.6 64-bit (system)",
   "language": "python",
   "name": "python3"
  },
  "language_info": {
   "codemirror_mode": {
    "name": "ipython",
    "version": 3
   },
   "file_extension": ".py",
   "mimetype": "text/x-python",
   "name": "python",
   "nbconvert_exporter": "python",
   "pygments_lexer": "ipython3",
   "version": "3.7.8"
  },
  "orig_nbformat": 4
 },
 "nbformat": 4,
 "nbformat_minor": 2
}
